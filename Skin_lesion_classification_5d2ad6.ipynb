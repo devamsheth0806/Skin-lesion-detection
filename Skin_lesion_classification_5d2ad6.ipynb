{
  "metadata": {
    "kernelspec": {
      "language": "python",
      "display_name": "Python 3",
      "name": "python3"
    },
    "language_info": {
      "name": "python",
      "version": "3.10.13",
      "mimetype": "text/x-python",
      "codemirror_mode": {
        "name": "ipython",
        "version": 3
      },
      "pygments_lexer": "ipython3",
      "nbconvert_exporter": "python",
      "file_extension": ".py"
    },
    "kaggle": {
      "accelerator": "none",
      "dataSources": [
        {
          "sourceId": 104884,
          "sourceType": "datasetVersion",
          "datasetId": 54339
        }
      ],
      "dockerImageVersionId": 30699,
      "isInternetEnabled": true,
      "language": "python",
      "sourceType": "notebook",
      "isGpuEnabled": false
    },
    "colab": {
      "name": "Skin lesion classification 5d2ad6",
      "provenance": [],
      "include_colab_link": true
    }
  },
  "nbformat_minor": 0,
  "nbformat": 4,
  "cells": [
    {
      "cell_type": "markdown",
      "metadata": {
        "id": "view-in-github",
        "colab_type": "text"
      },
      "source": [
        "<a href=\"https://colab.research.google.com/github/devamsheth0806/Skin-lesion-detection/blob/master/Skin_lesion_classification_5d2ad6.ipynb\" target=\"_parent\"><img src=\"https://colab.research.google.com/assets/colab-badge.svg\" alt=\"Open In Colab\"/></a>"
      ]
    },
    {
      "source": [
        "\n",
        "# IMPORTANT: RUN THIS CELL IN ORDER TO IMPORT YOUR KAGGLE DATA SOURCES\n",
        "# TO THE CORRECT LOCATION (/kaggle/input) IN YOUR NOTEBOOK,\n",
        "# THEN FEEL FREE TO DELETE THIS CELL.\n",
        "# NOTE: THIS NOTEBOOK ENVIRONMENT DIFFERS FROM KAGGLE'S PYTHON\n",
        "# ENVIRONMENT SO THERE MAY BE MISSING LIBRARIES USED BY YOUR\n",
        "# NOTEBOOK.\n",
        "\n",
        "import os\n",
        "import sys\n",
        "from tempfile import NamedTemporaryFile\n",
        "from urllib.request import urlopen\n",
        "from urllib.parse import unquote, urlparse\n",
        "from urllib.error import HTTPError\n",
        "from zipfile import ZipFile\n",
        "import tarfile\n",
        "import shutil\n",
        "\n",
        "CHUNK_SIZE = 40960\n",
        "DATA_SOURCE_MAPPING = 'skin-cancer-mnist-ham10000:https%3A%2F%2Fstorage.googleapis.com%2Fkaggle-data-sets%2F54339%2F104884%2Fbundle%2Farchive.zip%3FX-Goog-Algorithm%3DGOOG4-RSA-SHA256%26X-Goog-Credential%3Dgcp-kaggle-com%2540kaggle-161607.iam.gserviceaccount.com%252F20240715%252Fauto%252Fstorage%252Fgoog4_request%26X-Goog-Date%3D20240715T232556Z%26X-Goog-Expires%3D259200%26X-Goog-SignedHeaders%3Dhost%26X-Goog-Signature%3D6fbf8c2a10ff386a13475bae6c2db4d13f89d142bbfa616558430f651c94f2a9c5394446f3011fa8ea6f0141dbd61bc53768835d223b78f0a355953e8c1b07ca636924bbd95d0164ed0e97d29d1957e196ad096c7e615e0ab2c9afb93a943aeea777864ab6b273c5893e12c40a4a97876f8cf8f17a98374839f74f78729ecd093bf6c7fb469efbc9a8dde4eb41efa326f1c66a4f5f3bb81c1cba26bad0a8a81566e4b25999d28c2212e8c48d30ba404c8319e4ab5e621ece6cbf6412da56f4c7e4b43533bdd232ec951ae40ee665272ecd5ffb09361cf957b821438287a0222a311d21a849cd5e90892685a4eaa817686d896d5162531f8960b95e45f764ddce'\n",
        "\n",
        "KAGGLE_INPUT_PATH='/kaggle/input'\n",
        "KAGGLE_WORKING_PATH='/kaggle/working'\n",
        "KAGGLE_SYMLINK='kaggle'\n",
        "\n",
        "!umount /kaggle/input/ 2> /dev/null\n",
        "shutil.rmtree('/kaggle/input', ignore_errors=True)\n",
        "os.makedirs(KAGGLE_INPUT_PATH, 0o777, exist_ok=True)\n",
        "os.makedirs(KAGGLE_WORKING_PATH, 0o777, exist_ok=True)\n",
        "\n",
        "try:\n",
        "  os.symlink(KAGGLE_INPUT_PATH, os.path.join(\"..\", 'input'), target_is_directory=True)\n",
        "except FileExistsError:\n",
        "  pass\n",
        "try:\n",
        "  os.symlink(KAGGLE_WORKING_PATH, os.path.join(\"..\", 'working'), target_is_directory=True)\n",
        "except FileExistsError:\n",
        "  pass\n",
        "\n",
        "for data_source_mapping in DATA_SOURCE_MAPPING.split(','):\n",
        "    directory, download_url_encoded = data_source_mapping.split(':')\n",
        "    download_url = unquote(download_url_encoded)\n",
        "    filename = urlparse(download_url).path\n",
        "    destination_path = os.path.join(KAGGLE_INPUT_PATH, directory)\n",
        "    try:\n",
        "        with urlopen(download_url) as fileres, NamedTemporaryFile() as tfile:\n",
        "            total_length = fileres.headers['content-length']\n",
        "            print(f'Downloading {directory}, {total_length} bytes compressed')\n",
        "            dl = 0\n",
        "            data = fileres.read(CHUNK_SIZE)\n",
        "            while len(data) > 0:\n",
        "                dl += len(data)\n",
        "                tfile.write(data)\n",
        "                done = int(50 * dl / int(total_length))\n",
        "                sys.stdout.write(f\"\\r[{'=' * done}{' ' * (50-done)}] {dl} bytes downloaded\")\n",
        "                sys.stdout.flush()\n",
        "                data = fileres.read(CHUNK_SIZE)\n",
        "            if filename.endswith('.zip'):\n",
        "              with ZipFile(tfile) as zfile:\n",
        "                zfile.extractall(destination_path)\n",
        "            else:\n",
        "              with tarfile.open(tfile.name) as tarfile:\n",
        "                tarfile.extractall(destination_path)\n",
        "            print(f'\\nDownloaded and uncompressed: {directory}')\n",
        "    except HTTPError as e:\n",
        "        print(f'Failed to load (likely expired) {download_url} to path {destination_path}')\n",
        "        continue\n",
        "    except OSError as e:\n",
        "        print(f'Failed to load {download_url} to path {destination_path}')\n",
        "        continue\n",
        "\n",
        "print('Data source import complete.')\n"
      ],
      "metadata": {
        "id": "ryJID8G8t5-Z"
      },
      "cell_type": "code",
      "outputs": [],
      "execution_count": null
    },
    {
      "cell_type": "markdown",
      "source": [
        "# Skin Lesion classification using deep learning"
      ],
      "metadata": {
        "id": "S1KFvIQxt5-b"
      }
    },
    {
      "cell_type": "markdown",
      "source": [
        "## Importing libraries"
      ],
      "metadata": {
        "id": "clBrSXV5t5-c"
      }
    },
    {
      "cell_type": "code",
      "source": [
        "# Graph plotting\n",
        "\n",
        "%matplotlib inline\n",
        "import matplotlib.pyplot as plt\n",
        "import seaborn as sns\n",
        "from PIL import Image\n",
        "\n",
        "\n",
        "# data manipulation\n",
        "import numpy as np\n",
        "import pandas as pd\n",
        "import os\n",
        "from glob import glob\n",
        "import shutil\n",
        "import gc\n",
        "\n",
        "np.random.seed(23)\n",
        "\n",
        "# sci-kit learn tools\n",
        "from sklearn.preprocessing import label_binarize, StandardScaler\n",
        "from sklearn.metrics import confusion_matrix\n",
        "import itertools\n",
        "from sklearn.model_selection import train_test_split, StratifiedShuffleSplit\n",
        "\n",
        "#deep learning models and tools\n",
        "import keras\n",
        "import tensorflow as tf\n",
        "from keras import layers\n",
        "from keras.utils import to_categorical # used for converting labels to one-hot-encoding\n",
        "from keras.models import Sequential\n",
        "from keras.layers import BatchNormalization, Dense, Dropout, Flatten, Conv2D, MaxPool2D, Input\n",
        "from tensorflow.keras.applications import EfficientNetB2\n",
        "from keras import backend as K\n",
        "# from keras.layers.Normalization import\n",
        "from keras.optimizers import Adam, Adamax\n",
        "from keras.src.legacy.preprocessing.image import ImageDataGenerator\n",
        "from keras.callbacks import ReduceLROnPlateau, EarlyStopping"
      ],
      "metadata": {
        "_uuid": "8f2839f25d086af736a60e9eeb907d3b93b6e0e5",
        "_cell_guid": "b1076dfc-b9ad-4769-8c92-a6c4dae69d19",
        "execution": {
          "iopub.status.busy": "2024-07-15T19:27:55.29617Z",
          "iopub.execute_input": "2024-07-15T19:27:55.296602Z",
          "iopub.status.idle": "2024-07-15T19:27:55.310811Z",
          "shell.execute_reply.started": "2024-07-15T19:27:55.296569Z",
          "shell.execute_reply": "2024-07-15T19:27:55.309606Z"
        },
        "trusted": true,
        "id": "ms-Tbo_Gt5-d"
      },
      "execution_count": null,
      "outputs": []
    },
    {
      "cell_type": "markdown",
      "source": [
        "## Importing dataset"
      ],
      "metadata": {
        "id": "ch9oCD9bt5-d"
      }
    },
    {
      "cell_type": "code",
      "source": [
        "base_dir = os.path.join('..', 'input','skin-cancer-mnist-ham10000') # Merging images from both folders into one dictionary\n",
        "\n",
        "imageid_path_dict = {os.path.splitext(os.path.basename(x))[0]: x\n",
        "                     for x in glob(os.path.join(base_dir, '*', '*.jpg'))}\n",
        "\n",
        "lesion_type_dict = {\n",
        "    'nv': 'Melanocytic nevi',\n",
        "    'mel': 'Melanoma',\n",
        "    'bkl': 'Benign keratosis-like lesions ',\n",
        "    'bcc': 'Basal cell carcinoma',\n",
        "    'akiec': 'Actinic keratoses',\n",
        "    'vasc': 'Vascular lesions',\n",
        "    'df': 'Dermatofibroma'\n",
        "}"
      ],
      "metadata": {
        "execution": {
          "iopub.status.busy": "2024-07-15T19:27:55.312835Z",
          "iopub.execute_input": "2024-07-15T19:27:55.31318Z",
          "iopub.status.idle": "2024-07-15T19:27:55.479583Z",
          "shell.execute_reply.started": "2024-07-15T19:27:55.313152Z",
          "shell.execute_reply": "2024-07-15T19:27:55.478718Z"
        },
        "trusted": true,
        "id": "EyDmVfiFt5-e"
      },
      "execution_count": null,
      "outputs": []
    },
    {
      "cell_type": "code",
      "source": [
        "meta_df = pd.read_csv(os.path.join(base_dir,'HAM10000_metadata.csv'))\n",
        "meta_df['path'] = meta_df['image_id'].map(imageid_path_dict.get)\n",
        "meta_df['cell_type'] = meta_df['dx'].map(lesion_type_dict.get)\n",
        "meta_df['cell_type_idx'] = pd.Categorical(meta_df['cell_type']).codes\n",
        "meta_df.head()"
      ],
      "metadata": {
        "execution": {
          "iopub.status.busy": "2024-07-15T19:27:55.481068Z",
          "iopub.execute_input": "2024-07-15T19:27:55.48141Z",
          "iopub.status.idle": "2024-07-15T19:27:55.550516Z",
          "shell.execute_reply.started": "2024-07-15T19:27:55.481364Z",
          "shell.execute_reply": "2024-07-15T19:27:55.549415Z"
        },
        "trusted": true,
        "id": "_9uvkpLNt5-f"
      },
      "execution_count": null,
      "outputs": []
    },
    {
      "cell_type": "markdown",
      "source": [
        "## Pre-processing"
      ],
      "metadata": {
        "id": "Iv3hvuzpt5-f"
      }
    },
    {
      "cell_type": "code",
      "source": [
        "# checking nulls\n",
        "meta_df.isnull().sum()"
      ],
      "metadata": {
        "execution": {
          "iopub.status.busy": "2024-07-15T19:27:55.552408Z",
          "iopub.execute_input": "2024-07-15T19:27:55.552819Z",
          "iopub.status.idle": "2024-07-15T19:27:55.572142Z",
          "shell.execute_reply.started": "2024-07-15T19:27:55.55278Z",
          "shell.execute_reply": "2024-07-15T19:27:55.57109Z"
        },
        "trusted": true,
        "id": "jQ3dLvD9t5-g"
      },
      "execution_count": null,
      "outputs": []
    },
    {
      "cell_type": "code",
      "source": [
        "meta_df['age'].fillna(meta_df.groupby(\"dx\")['age'].transform(lambda x: x.fillna(x.mean())), inplace=True)"
      ],
      "metadata": {
        "execution": {
          "iopub.status.busy": "2024-07-15T19:27:55.575404Z",
          "iopub.execute_input": "2024-07-15T19:27:55.575751Z",
          "iopub.status.idle": "2024-07-15T19:27:55.593681Z",
          "shell.execute_reply.started": "2024-07-15T19:27:55.575721Z",
          "shell.execute_reply": "2024-07-15T19:27:55.592683Z"
        },
        "trusted": true,
        "id": "5K-M4dzKt5-g"
      },
      "execution_count": null,
      "outputs": []
    },
    {
      "cell_type": "code",
      "source": [
        "meta_df.isnull().sum()"
      ],
      "metadata": {
        "execution": {
          "iopub.status.busy": "2024-07-15T19:27:55.59486Z",
          "iopub.execute_input": "2024-07-15T19:27:55.595172Z",
          "iopub.status.idle": "2024-07-15T19:27:55.611972Z",
          "shell.execute_reply.started": "2024-07-15T19:27:55.595139Z",
          "shell.execute_reply": "2024-07-15T19:27:55.610725Z"
        },
        "trusted": true,
        "id": "wM4VLb6it5-g"
      },
      "execution_count": null,
      "outputs": []
    },
    {
      "cell_type": "code",
      "source": [
        "meta_df.dtypes"
      ],
      "metadata": {
        "execution": {
          "iopub.status.busy": "2024-07-15T19:27:55.613103Z",
          "iopub.execute_input": "2024-07-15T19:27:55.613429Z",
          "iopub.status.idle": "2024-07-15T19:27:55.624414Z",
          "shell.execute_reply.started": "2024-07-15T19:27:55.613401Z",
          "shell.execute_reply": "2024-07-15T19:27:55.623408Z"
        },
        "trusted": true,
        "id": "ln1ZL7NGt5-g"
      },
      "execution_count": null,
      "outputs": []
    },
    {
      "cell_type": "markdown",
      "source": [
        "## Exploratory Data Analysis"
      ],
      "metadata": {
        "id": "prAEPbZit5-h"
      }
    },
    {
      "cell_type": "code",
      "source": [
        "fig, ax1 = plt.subplots(1, 1, figsize= (10, 5))\n",
        "meta_df['cell_type'].value_counts().plot(kind='bar', ax=ax1)"
      ],
      "metadata": {
        "execution": {
          "iopub.status.busy": "2024-07-15T19:27:55.625629Z",
          "iopub.execute_input": "2024-07-15T19:27:55.625909Z",
          "iopub.status.idle": "2024-07-15T19:27:55.977263Z",
          "shell.execute_reply.started": "2024-07-15T19:27:55.625884Z",
          "shell.execute_reply": "2024-07-15T19:27:55.976305Z"
        },
        "trusted": true,
        "id": "2wJRQrBPt5-h"
      },
      "execution_count": null,
      "outputs": []
    },
    {
      "cell_type": "code",
      "source": [
        "meta_df['dx_type'].value_counts().plot(kind='bar')"
      ],
      "metadata": {
        "execution": {
          "iopub.status.busy": "2024-07-15T19:27:55.978598Z",
          "iopub.execute_input": "2024-07-15T19:27:55.978994Z",
          "iopub.status.idle": "2024-07-15T19:27:56.239035Z",
          "shell.execute_reply.started": "2024-07-15T19:27:55.97896Z",
          "shell.execute_reply": "2024-07-15T19:27:56.237876Z"
        },
        "trusted": true,
        "id": "dZNxMVbht5-h"
      },
      "execution_count": null,
      "outputs": []
    },
    {
      "cell_type": "code",
      "source": [
        "meta_df['localization'].value_counts().plot(kind='bar')"
      ],
      "metadata": {
        "execution": {
          "iopub.status.busy": "2024-07-15T19:27:56.240351Z",
          "iopub.execute_input": "2024-07-15T19:27:56.240689Z",
          "iopub.status.idle": "2024-07-15T19:27:56.605357Z",
          "shell.execute_reply.started": "2024-07-15T19:27:56.240659Z",
          "shell.execute_reply": "2024-07-15T19:27:56.604276Z"
        },
        "trusted": true,
        "id": "plrF8rQ_t5-h"
      },
      "execution_count": null,
      "outputs": []
    },
    {
      "cell_type": "code",
      "source": [
        "meta_df['age'].hist(bins=40)"
      ],
      "metadata": {
        "execution": {
          "iopub.status.busy": "2024-07-15T19:27:56.610212Z",
          "iopub.execute_input": "2024-07-15T19:27:56.610536Z",
          "iopub.status.idle": "2024-07-15T19:27:58.102546Z",
          "shell.execute_reply.started": "2024-07-15T19:27:56.610508Z",
          "shell.execute_reply": "2024-07-15T19:27:58.099059Z"
        },
        "trusted": true,
        "id": "ApEN6Zoit5-h"
      },
      "execution_count": null,
      "outputs": []
    },
    {
      "cell_type": "code",
      "source": [
        "meta_df['sex'].value_counts().plot(kind='bar')"
      ],
      "metadata": {
        "execution": {
          "iopub.status.busy": "2024-07-15T19:27:58.103293Z",
          "iopub.status.idle": "2024-07-15T19:27:58.103653Z",
          "shell.execute_reply.started": "2024-07-15T19:27:58.103476Z",
          "shell.execute_reply": "2024-07-15T19:27:58.103491Z"
        },
        "trusted": true,
        "id": "i_NnwXg6t5-h"
      },
      "execution_count": null,
      "outputs": []
    },
    {
      "cell_type": "code",
      "source": [
        "sns.boxplot(data=meta_df,y='age',x='cell_type_idx')"
      ],
      "metadata": {
        "execution": {
          "iopub.status.busy": "2024-07-15T19:27:58.105062Z",
          "iopub.status.idle": "2024-07-15T19:27:58.10545Z",
          "shell.execute_reply.started": "2024-07-15T19:27:58.105265Z",
          "shell.execute_reply": "2024-07-15T19:27:58.105282Z"
        },
        "trusted": true,
        "id": "L-7kttXDt5-h"
      },
      "execution_count": null,
      "outputs": []
    },
    {
      "cell_type": "code",
      "source": [
        "fig, ax = plt.subplots(figsize=[20,5])\n",
        "sns.boxplot(data=meta_df,y='age',x='cell_type')"
      ],
      "metadata": {
        "execution": {
          "iopub.status.busy": "2024-07-15T19:27:58.107184Z",
          "iopub.status.idle": "2024-07-15T19:27:58.107558Z",
          "shell.execute_reply.started": "2024-07-15T19:27:58.107386Z",
          "shell.execute_reply": "2024-07-15T19:27:58.1074Z"
        },
        "trusted": true,
        "id": "gQpGNgU_t5-h"
      },
      "execution_count": null,
      "outputs": []
    },
    {
      "cell_type": "markdown",
      "source": [
        "## Loading of images"
      ],
      "metadata": {
        "id": "X9QhxaR7t5-i"
      }
    },
    {
      "cell_type": "code",
      "source": [
        "t_split = StratifiedShuffleSplit(n_splits=1, test_size=0.2, random_state=42)\n",
        "train_index, test_index = next(t_split.split(meta_df['path'], meta_df['dx']))\n",
        "x_train, x_test_meta = meta_df['path'].iloc[train_index], meta_df['path'].iloc[test_index]\n",
        "y_train, y_test_meta = meta_df['dx'].iloc[train_index], meta_df['dx'].iloc[test_index]\n",
        "\n",
        "v_split = StratifiedShuffleSplit(n_splits=1, test_size=0.1, random_state=25)\n",
        "train_index, val_index = next(v_split.split(x_train, y_train))\n",
        "x_train, x_val_meta = x_train.iloc[train_index], x_train.iloc[val_index]\n",
        "y_train, y_val_meta = y_train.iloc[train_index], y_train.iloc[val_index]\n"
      ],
      "metadata": {
        "execution": {
          "iopub.status.busy": "2024-07-15T19:27:58.108568Z",
          "iopub.status.idle": "2024-07-15T19:27:58.108967Z",
          "shell.execute_reply.started": "2024-07-15T19:27:58.108775Z",
          "shell.execute_reply": "2024-07-15T19:27:58.10879Z"
        },
        "trusted": true,
        "id": "XRmaiqSdt5-i"
      },
      "execution_count": null,
      "outputs": []
    },
    {
      "cell_type": "code",
      "source": [
        "if(os.path.exists('aug_dir')):\n",
        "    shutil.rmtree('aug_dir')\n",
        "if(os.path.exists('base_dir')):\n",
        "    shutil.rmtree('base_dir')"
      ],
      "metadata": {
        "execution": {
          "iopub.status.busy": "2024-07-15T19:27:58.11023Z",
          "iopub.status.idle": "2024-07-15T19:27:58.110616Z",
          "shell.execute_reply.started": "2024-07-15T19:27:58.110438Z",
          "shell.execute_reply": "2024-07-15T19:27:58.110453Z"
        },
        "trusted": true,
        "id": "skbWhcW_t5-i"
      },
      "execution_count": null,
      "outputs": []
    },
    {
      "cell_type": "code",
      "source": [
        "class_list = ['mel','bkl','bcc','akiec','vasc','df', 'nv']\n",
        "train_dir = os.path.join('base_dir','train_dir')\n",
        "val_dir = os.path.join('base_dir','validate_dir')\n",
        "test_dir = os.path.join('base_dir','test_dir')"
      ],
      "metadata": {
        "execution": {
          "iopub.status.busy": "2024-07-15T19:27:58.111919Z",
          "iopub.status.idle": "2024-07-15T19:27:58.112407Z",
          "shell.execute_reply.started": "2024-07-15T19:27:58.112088Z",
          "shell.execute_reply": "2024-07-15T19:27:58.112102Z"
        },
        "trusted": true,
        "id": "a4Gmpeast5-i"
      },
      "execution_count": null,
      "outputs": []
    },
    {
      "cell_type": "code",
      "source": [
        "os.makedirs(train_dir)\n",
        "os.makedirs(val_dir)\n",
        "os.makedirs(test_dir)\n",
        "\n",
        "\n",
        "for cat in class_list:\n",
        "    train_data_dir = os.path.join(train_dir, cat)\n",
        "    os.mkdir(train_data_dir)\n",
        "    val_data_dir = os.path.join(val_dir, cat)\n",
        "    os.mkdir(val_data_dir)\n",
        "    test_data_dir = os.path.join(test_dir, cat)\n",
        "    os.mkdir(test_data_dir)\n",
        "\n",
        "\n",
        "def categorical_storing(row, dataset_type):\n",
        "    label = row['dx']\n",
        "    # source path to image\n",
        "    src = row['path']\n",
        "    fname = os.path.basename(src)\n",
        "    if dataset_type == 'train':\n",
        "        dst = os.path.join(train_dir, label, fname)\n",
        "        # copy the image from the source to the destination\n",
        "        _ = shutil.copyfile(src, dst)\n",
        "    elif dataset_type == 'test':\n",
        "        dst = os.path.join(test_dir, label, fname)\n",
        "        # copy the image from the source to the destination\n",
        "        _ = shutil.copyfile(src, dst)\n",
        "    else:\n",
        "        dst = os.path.join(val_dir, label, fname)\n",
        "        # copy the image from the source to the destination\n",
        "        _ = shutil.copyfile(src, dst)"
      ],
      "metadata": {
        "execution": {
          "iopub.status.busy": "2024-07-15T19:27:58.113581Z",
          "iopub.status.idle": "2024-07-15T19:27:58.113925Z",
          "shell.execute_reply.started": "2024-07-15T19:27:58.113749Z",
          "shell.execute_reply": "2024-07-15T19:27:58.113763Z"
        },
        "trusted": true,
        "id": "SJB_D3B-t5-i"
      },
      "execution_count": null,
      "outputs": []
    },
    {
      "cell_type": "code",
      "source": [
        "pd.concat([x_train, y_train], axis=1).apply(lambda row: categorical_storing(row, dataset_type='train'),axis=1)\n",
        "pd.concat([x_val_meta, y_val_meta], axis=1).apply(lambda row: categorical_storing(row, dataset_type='val'),axis=1)\n",
        "pd.concat([x_test_meta, y_test_meta], axis=1).apply(lambda row: categorical_storing(row, dataset_type='test'),axis=1)"
      ],
      "metadata": {
        "execution": {
          "iopub.status.busy": "2024-07-15T19:27:58.11534Z",
          "iopub.status.idle": "2024-07-15T19:27:58.115689Z",
          "shell.execute_reply.started": "2024-07-15T19:27:58.115515Z",
          "shell.execute_reply": "2024-07-15T19:27:58.115531Z"
        },
        "trusted": true,
        "id": "qlp8JOoTt5-i"
      },
      "execution_count": null,
      "outputs": []
    },
    {
      "cell_type": "code",
      "source": [
        "def read_image(img_name,path):\n",
        "#     print(img_name)\n",
        "    image = tf.io.read_file(os.path.join(path,img_name))\n",
        "    image = tf.image.decode_jpeg(image, channels=3)\n",
        "    image = tf.image.resize(image, [150, 200])\n",
        "    image = tf.image.per_image_standardization(image)\n",
        "    return image\n",
        "def save_images(row, path):\n",
        "    global i\n",
        "#     print(row)\n",
        "    im =tf.io.encode_jpeg(tf.image.convert_image_dtype(row['images'], dtype=tf.uint8))\n",
        "    tf.io.write_file(os.path.join(path,f'augmented_{i}.jpg'),im)\n",
        "    i+=1\n",
        "def batch_generator(df, num_batch):\n",
        "    batches = np.array_split(np.arange(len(df)), num_batch)\n",
        "    for batch in batches:\n",
        "        yield df.iloc[batch]"
      ],
      "metadata": {
        "execution": {
          "iopub.status.busy": "2024-07-15T19:27:58.117098Z",
          "iopub.status.idle": "2024-07-15T19:27:58.11746Z",
          "shell.execute_reply.started": "2024-07-15T19:27:58.117291Z",
          "shell.execute_reply": "2024-07-15T19:27:58.117306Z"
        },
        "trusted": true,
        "id": "_YvaYiWgt5-i"
      },
      "execution_count": null,
      "outputs": []
    },
    {
      "cell_type": "code",
      "source": [
        "data_augmentation = keras.Sequential([\n",
        "    layers.RandomFlip(\"horizontal_and_vertical\"),\n",
        "    layers.RandomRotation(0.5),\n",
        "    layers.RandomZoom(0.3),\n",
        "    layers.RandomTranslation(0.2,0.2)\n",
        "])\n",
        "batch_size = 100\n",
        "\n",
        "if(os.path.exists('aug_dir')):\n",
        "    shutil.rmtree('aug_dir')\n",
        "aug_dir = 'aug_dir'\n",
        "os.mkdir(aug_dir)\n",
        "i = 0\n",
        "\n",
        "for img_class in class_list:\n",
        "    i=0\n",
        "    src_path = os.path.join(train_dir,img_class)\n",
        "    save_path = os.path.join(aug_dir,img_class)\n",
        "    os.mkdir(save_path)\n",
        "    images_df = pd.DataFrame({'path': os.listdir(src_path)})\n",
        "#     images_df = images_df.map(lambda x: read_image(x,path=src_path))\n",
        "    images_df = pd.DataFrame({'images':map(lambda x: np.asarray(Image.open(os.path.join(src_path,x)).resize((150,200)))/255, images_df['path'])})\n",
        "#     images_df = tf.data.Dataset.from_tensor_slices(images_df.to_dict('list'))\n",
        "#     images_df = images_df.shuffle(1000)\n",
        "#     images_df = images_df.batch(batch_size)\n",
        "    num_aug_images_wanted = 6000\n",
        "    num_files = len(os.listdir(src_path))\n",
        "    print(num_files)\n",
        "    num_batches = int(np.ceil((num_aug_images_wanted-num_files)/batch_size))\n",
        "    print(num_batches)\n",
        "#     print(save_path)\n",
        "#     print(src_path)\n",
        "    print(\"transforming:\",img_class)\n",
        "    for batch in batch_generator(images_df,num_batches):\n",
        "        num_images = 0\n",
        "        while num_images < batch_size:\n",
        "            images_df = batch.map(lambda x: (data_augmentation(x, training=True)))\n",
        "            num_images += len(images_df)\n",
        "            images_df.iloc[:batch_size].apply(lambda row: save_images(row, path = save_path),axis=1)"
      ],
      "metadata": {
        "execution": {
          "iopub.status.busy": "2024-07-15T19:27:58.119677Z",
          "iopub.status.idle": "2024-07-15T19:27:58.120041Z",
          "shell.execute_reply.started": "2024-07-15T19:27:58.11987Z",
          "shell.execute_reply": "2024-07-15T19:27:58.119885Z"
        },
        "trusted": true,
        "id": "nnkAWD0xt5-i"
      },
      "execution_count": null,
      "outputs": []
    },
    {
      "cell_type": "code",
      "source": [
        "for img_class in class_list:\n",
        "    for fname in os.listdir(os.path.join(aug_dir, img_class)):\n",
        "        src = os.path.join(aug_dir, img_class,fname)\n",
        "        dst = os.path.join(train_dir, img_class, fname)\n",
        "        # copy the image from the source to the destination\n",
        "        shutil.copyfile(src, dst)"
      ],
      "metadata": {
        "execution": {
          "iopub.status.busy": "2024-07-15T19:27:58.121944Z",
          "iopub.status.idle": "2024-07-15T19:27:58.12253Z",
          "shell.execute_reply.started": "2024-07-15T19:27:58.122193Z",
          "shell.execute_reply": "2024-07-15T19:27:58.122214Z"
        },
        "trusted": true,
        "id": "Sqx8lPCRt5-i"
      },
      "execution_count": null,
      "outputs": []
    },
    {
      "cell_type": "code",
      "source": [
        "print(len(os.listdir('base_dir/train_dir/nv')))\n",
        "print(len(os.listdir('base_dir/train_dir/mel')))\n",
        "print(len(os.listdir('base_dir/train_dir/bkl')))\n",
        "print(len(os.listdir('base_dir/train_dir/bcc')))\n",
        "print(len(os.listdir('base_dir/train_dir/akiec')))\n",
        "print(len(os.listdir('base_dir/train_dir/vasc')))\n",
        "print(len(os.listdir('base_dir/train_dir/df')))"
      ],
      "metadata": {
        "execution": {
          "iopub.status.busy": "2024-07-15T19:27:58.126851Z",
          "iopub.status.idle": "2024-07-15T19:27:58.127855Z",
          "shell.execute_reply.started": "2024-07-15T19:27:58.127566Z",
          "shell.execute_reply": "2024-07-15T19:27:58.127592Z"
        },
        "trusted": true,
        "id": "DEb1ENist5-j"
      },
      "execution_count": null,
      "outputs": []
    },
    {
      "cell_type": "code",
      "source": [
        "print(len(os.listdir('aug_dir/nv')))\n",
        "print(len(os.listdir('aug_dir/mel')))\n",
        "print(len(os.listdir('aug_dir/bkl')))\n",
        "print(len(os.listdir('aug_dir/bcc')))\n",
        "print(len(os.listdir('aug_dir/akiec')))\n",
        "print(len(os.listdir('aug_dir/vasc')))\n",
        "print(len(os.listdir('aug_dir/df')))"
      ],
      "metadata": {
        "execution": {
          "iopub.status.busy": "2024-07-15T19:27:58.12896Z",
          "iopub.status.idle": "2024-07-15T19:27:58.129505Z",
          "shell.execute_reply.started": "2024-07-15T19:27:58.129205Z",
          "shell.execute_reply": "2024-07-15T19:27:58.129244Z"
        },
        "trusted": true,
        "id": "yXh2VFhCt5-j"
      },
      "execution_count": null,
      "outputs": []
    },
    {
      "cell_type": "code",
      "source": [
        "data_df = pd.DataFrame(columns=['images','dx'])\n",
        "for img_class in class_list:\n",
        "    path = os.path.join(train_dir,img_class)\n",
        "    files = os.listdir(path)\n",
        "    temp_df = pd.DataFrame({'images':list(map(lambda x: np.asarray(Image.open(os.path.join(path,x)).resize((60,80)))/255.0,files)), 'dx':[img_class]*len(files)})\n",
        "    data_df = pd.concat([data_df, temp_df])"
      ],
      "metadata": {
        "execution": {
          "iopub.status.busy": "2024-07-15T19:27:58.130625Z",
          "iopub.status.idle": "2024-07-15T19:27:58.130975Z",
          "shell.execute_reply.started": "2024-07-15T19:27:58.130805Z",
          "shell.execute_reply": "2024-07-15T19:27:58.13082Z"
        },
        "trusted": true,
        "id": "UlX_cvY4t5-j"
      },
      "execution_count": null,
      "outputs": []
    },
    {
      "cell_type": "code",
      "source": [
        "val_df = pd.DataFrame(columns=['images','dx'])\n",
        "for img_class in class_list:\n",
        "    path = os.path.join(val_dir,img_class)\n",
        "    files = os.listdir(path)\n",
        "    temp_df = pd.DataFrame({'images':list(map(lambda x: np.asarray(Image.open(os.path.join(path,x)).resize((60,80)))/255.0,files)), 'dx':[img_class]*len(files)})\n",
        "    val_df = pd.concat([val_df, temp_df])"
      ],
      "metadata": {
        "execution": {
          "iopub.status.busy": "2024-07-15T19:27:58.132644Z",
          "iopub.status.idle": "2024-07-15T19:27:58.13301Z",
          "shell.execute_reply.started": "2024-07-15T19:27:58.13284Z",
          "shell.execute_reply": "2024-07-15T19:27:58.132854Z"
        },
        "trusted": true,
        "id": "2PwkIR22t5-j"
      },
      "execution_count": null,
      "outputs": []
    },
    {
      "cell_type": "code",
      "source": [
        "test_df = pd.DataFrame(columns=['images','dx'])\n",
        "for img_class in class_list:\n",
        "    path = os.path.join(test_dir,img_class)\n",
        "    files = os.listdir(path)\n",
        "    temp_df = pd.DataFrame({'images':list(map(lambda x: np.asarray(Image.open(os.path.join(path,x)).resize((60,80)))/255.0,files)), 'dx':[img_class]*len(files)})\n",
        "    test_df = pd.concat([test_df, temp_df])"
      ],
      "metadata": {
        "execution": {
          "iopub.status.busy": "2024-07-15T19:27:58.134191Z",
          "iopub.status.idle": "2024-07-15T19:27:58.134589Z",
          "shell.execute_reply.started": "2024-07-15T19:27:58.134406Z",
          "shell.execute_reply": "2024-07-15T19:27:58.134421Z"
        },
        "trusted": true,
        "id": "XAJtw8aYt5-j"
      },
      "execution_count": null,
      "outputs": []
    },
    {
      "cell_type": "code",
      "source": [
        "# val_df = pd.concat([x_val_meta, y_val_meta],axis=1)\n",
        "# val_df['images'] = list(map(lambda x: np.asarray(Image.open(x).resize((90,120))),val_df['path']))\n",
        "\n",
        "# test_df = pd.concat([x_test_meta, y_test_meta],axis=1)\n",
        "# test_df['images'] = list(map(lambda x: np.asarray(Image.open(x).resize((90,120))),test_df['path']))"
      ],
      "metadata": {
        "execution": {
          "iopub.status.busy": "2024-07-15T19:27:58.135753Z",
          "iopub.status.idle": "2024-07-15T19:27:58.1361Z",
          "shell.execute_reply.started": "2024-07-15T19:27:58.13593Z",
          "shell.execute_reply": "2024-07-15T19:27:58.135945Z"
        },
        "trusted": true,
        "id": "7rLwQUsyt5-k"
      },
      "execution_count": null,
      "outputs": []
    },
    {
      "cell_type": "code",
      "source": [
        "# Checking the image size distribution\n",
        "data_df['images'].map(lambda x: x.shape).value_counts()"
      ],
      "metadata": {
        "execution": {
          "iopub.status.busy": "2024-07-15T19:27:58.138277Z",
          "iopub.status.idle": "2024-07-15T19:27:58.138803Z",
          "shell.execute_reply.started": "2024-07-15T19:27:58.138538Z",
          "shell.execute_reply": "2024-07-15T19:27:58.138561Z"
        },
        "trusted": true,
        "id": "s8jdsk0It5-k"
      },
      "execution_count": null,
      "outputs": []
    },
    {
      "cell_type": "code",
      "source": [
        "data_df['cell_type_idx'] = pd.Categorical(data_df['dx']).codes"
      ],
      "metadata": {
        "execution": {
          "iopub.status.busy": "2024-07-15T19:27:58.140053Z",
          "iopub.status.idle": "2024-07-15T19:27:58.141414Z",
          "shell.execute_reply.started": "2024-07-15T19:27:58.141082Z",
          "shell.execute_reply": "2024-07-15T19:27:58.141106Z"
        },
        "trusted": true,
        "id": "sXrQ0nr8t5-k"
      },
      "execution_count": null,
      "outputs": []
    },
    {
      "cell_type": "code",
      "source": [
        "x_train = data_df['images']\n",
        "y_train = data_df['cell_type_idx']"
      ],
      "metadata": {
        "execution": {
          "iopub.status.busy": "2024-07-15T19:27:58.142535Z",
          "iopub.status.idle": "2024-07-15T19:27:58.143038Z",
          "shell.execute_reply.started": "2024-07-15T19:27:58.142775Z",
          "shell.execute_reply": "2024-07-15T19:27:58.142798Z"
        },
        "trusted": true,
        "id": "ZK6fzhE1t5-k"
      },
      "execution_count": null,
      "outputs": []
    },
    {
      "cell_type": "code",
      "source": [
        "y_train"
      ],
      "metadata": {
        "execution": {
          "iopub.status.busy": "2024-07-15T19:27:58.14496Z",
          "iopub.status.idle": "2024-07-15T19:27:58.145425Z",
          "shell.execute_reply.started": "2024-07-15T19:27:58.145165Z",
          "shell.execute_reply": "2024-07-15T19:27:58.145182Z"
        },
        "trusted": true,
        "id": "SvOdJO75t5-k"
      },
      "execution_count": null,
      "outputs": []
    },
    {
      "cell_type": "markdown",
      "source": [
        "## Dividing data into training and testing dataset"
      ],
      "metadata": {
        "id": "tIOEqTa6t5-o"
      }
    },
    {
      "cell_type": "code",
      "source": [
        "x_val, x_test, y_val, y_test = val_df['images'], test_df['images'], pd.Categorical(val_df['dx']).codes, pd.Categorical(test_df['dx']).codes"
      ],
      "metadata": {
        "execution": {
          "iopub.status.busy": "2024-07-15T19:27:58.147061Z",
          "iopub.status.idle": "2024-07-15T19:27:58.14746Z",
          "shell.execute_reply.started": "2024-07-15T19:27:58.147254Z",
          "shell.execute_reply": "2024-07-15T19:27:58.147282Z"
        },
        "trusted": true,
        "id": "i_22ctWEt5-p"
      },
      "execution_count": null,
      "outputs": []
    },
    {
      "cell_type": "markdown",
      "source": [
        "### Label Encoding"
      ],
      "metadata": {
        "id": "X5zKFlret5-p"
      }
    },
    {
      "cell_type": "code",
      "source": [
        "# # Perform one-hot encoding on the labels\n",
        "y_train = to_categorical(y_train, num_classes = 7)\n",
        "y_test = to_categorical(y_test, num_classes = 7)\n",
        "y_val = to_categorical(y_val, num_classes = 7)\n",
        "\n",
        "# x_train.sex = x_train.sex.astype('category').cat.codes\n",
        "# x_train.localization = x_train.localization.astype('category').cat.codes\n",
        "# x_train.dx_type = x_train.dx_type.astype('category').cat.codes"
      ],
      "metadata": {
        "execution": {
          "iopub.status.busy": "2024-07-15T19:27:58.148871Z",
          "iopub.status.idle": "2024-07-15T19:27:58.149242Z",
          "shell.execute_reply.started": "2024-07-15T19:27:58.149049Z",
          "shell.execute_reply": "2024-07-15T19:27:58.149064Z"
        },
        "trusted": true,
        "id": "is4UUA6_t5-p"
      },
      "execution_count": null,
      "outputs": []
    },
    {
      "cell_type": "markdown",
      "source": [
        "# Splitting into training and validation"
      ],
      "metadata": {
        "id": "x_3Vau4Lt5-p"
      }
    },
    {
      "cell_type": "markdown",
      "source": [
        "Convert dataframes to numpy arrays"
      ],
      "metadata": {
        "id": "zqQXqN1rt5-p"
      }
    },
    {
      "cell_type": "code",
      "source": [
        "x_train_img = np.asarray(x_train.tolist())\n",
        "x_validate_img = np.asarray(x_val.tolist())\n",
        "x_test_img = np.asarray(x_test.tolist())"
      ],
      "metadata": {
        "execution": {
          "iopub.status.busy": "2024-07-15T19:27:58.150704Z",
          "iopub.status.idle": "2024-07-15T19:27:58.151075Z",
          "shell.execute_reply.started": "2024-07-15T19:27:58.150893Z",
          "shell.execute_reply": "2024-07-15T19:27:58.150909Z"
        },
        "trusted": true,
        "id": "3qliuQxOt5-p"
      },
      "execution_count": null,
      "outputs": []
    },
    {
      "cell_type": "markdown",
      "source": [
        "# Model Building"
      ],
      "metadata": {
        "id": "UNWTwlBFt5-p"
      }
    },
    {
      "cell_type": "code",
      "source": [
        "# tpu = tf.distribute.cluster_resolver.TPUClusterResolver()\n",
        "\n",
        "# # instantiate a distribution strategy\n",
        "# tf.tpu.experimental.initialize_tpu_system(tpu)\n",
        "# tpu_strategy = tf.distribute.TPUStrategy(tpu)\n",
        "del model\n",
        "del temp_df\n",
        "del path\n",
        "del files\n",
        "gc.collect()"
      ],
      "metadata": {
        "trusted": true,
        "id": "WZ2ZAbwet5-p"
      },
      "execution_count": null,
      "outputs": []
    },
    {
      "cell_type": "markdown",
      "source": [
        "## A. Building from scratch (using CNN)"
      ],
      "metadata": {
        "id": "9uXX83EVt5-p"
      }
    },
    {
      "cell_type": "code",
      "source": [
        "input_shape = (80, 60, 3)\n",
        "num_classes = 7\n",
        "\n",
        "model = keras.models.Sequential()\n",
        "model.add(keras.layers.Input(shape=input_shape))\n",
        "model.add(keras.layers.Conv2D(32, (3, 3), activation='relu', padding='same', kernel_initializer='he_normal'))\n",
        "model.add(keras.layers.Conv2D(32, (3, 3), activation='relu', padding='same', kernel_initializer='he_normal'))\n",
        "# model.add(keras.layers.MaxPooling2D())\n",
        "model.add(keras.layers.BatchNormalization())\n",
        "\n",
        "model.add(keras.layers.Conv2D(64, (3, 3), activation='relu', padding='same', kernel_initializer='he_normal'))\n",
        "model.add(keras.layers.Conv2D(64, (3, 3), activation='relu', padding='same', kernel_initializer='he_normal'))\n",
        "# model.add(keras.layers.MaxPooling2D())\n",
        "model.add(keras.layers.BatchNormalization())\n",
        "\n",
        "model.add(keras.layers.Conv2D(128, (3, 3), activation='relu', padding='same', kernel_initializer='he_normal'))\n",
        "# model.add(keras.layers.Conv2D(128, (3, 3), activation='relu', padding='same', kernel_initializer='he_normal'))\n",
        "# model.add(keras.layers.MaxPooling2D())\n",
        "model.add(keras.layers.BatchNormalization())\n",
        "\n",
        "model.add(keras.layers.Conv2D(256, (3, 3), activation='relu', padding='same', kernel_initializer='he_normal'))\n",
        "# model.add(keras.layers.Conv2D(256, (3, 3), activation='relu', padding='same', kernel_initializer='he_normal'))\n",
        "# model.add(keras.layers.BatchNormalization())\n",
        "model.add(keras.layers.MaxPooling2D())\n",
        "\n",
        "model.add(keras.layers.Flatten())\n",
        "\n",
        "model.add(keras.layers.Dropout(rate=0.3))\n",
        "model.add(keras.layers.Dense(units=256, activation='relu', kernel_initializer='he_normal', kernel_regularizer=keras.regularizers.L1L2() ))\n",
        "model.add(keras.layers.BatchNormalization())\n",
        "\n",
        "model.add(keras.layers.Dropout(rate=0.2))\n",
        "model.add(keras.layers.Dense(units=128, activation='relu', kernel_initializer='he_normal'))\n",
        "model.add(keras.layers.BatchNormalization())\n",
        "\n",
        "# model.add(keras.layers.Dropout(rate=0.1))\n",
        "# model.add(keras.layers.Dense(units=128, activation='relu', kernel_initializer='he_normal'))\n",
        "# model.add(keras.layers.BatchNormalization())\n",
        "\n",
        "# model.add(keras.layers.Dropout(rate=0.1))\n",
        "model.add(keras.layers.Dense(units=64, activation='relu', kernel_initializer='he_normal',kernel_regularizer=keras.regularizers.L1L2()))\n",
        "model.add(keras.layers.BatchNormalization())\n",
        "\n",
        "# model.add(keras.layers.Dropout(rate=0.1))\n",
        "model.add(keras.layers.Dense(units=32, activation='relu', kernel_initializer='he_normal', kernel_regularizer=keras.regularizers.L1L2()))\n",
        "model.add(keras.layers.BatchNormalization())\n",
        "\n",
        "model.add(keras.layers.Dense(units=7, activation='softmax', kernel_initializer='glorot_uniform', name='classifier'))\n",
        "model.compile(Adamax(learning_rate= 0.00001), loss= 'categorical_crossentropy', metrics= ['accuracy', 'f1_score'])\n",
        "\n",
        "model.summary()"
      ],
      "metadata": {
        "trusted": true,
        "id": "bqeCBa4St5-p"
      },
      "execution_count": null,
      "outputs": []
    },
    {
      "cell_type": "code",
      "source": [
        "# Set a learning rate annealer\n",
        "learning_rate_reduction = ReduceLROnPlateau(monitor='val_accuracy',\n",
        "                                            patience=3,\n",
        "                                            verbose=1,\n",
        "                                            factor=0.05,\n",
        "                                            min_lr=0.0000001)\n",
        "\n",
        "# Early stopping\n",
        "early_stopping = EarlyStopping(monitor='val_loss', patience=8, restore_best_weights=True)"
      ],
      "metadata": {
        "trusted": true,
        "id": "Yq69KUKxt5-q"
      },
      "execution_count": null,
      "outputs": []
    },
    {
      "cell_type": "markdown",
      "source": [
        "### Train the model"
      ],
      "metadata": {
        "id": "RTfXXvIat5-q"
      }
    },
    {
      "cell_type": "code",
      "source": [
        "epochs = 100\n",
        "batch_size = 16\n",
        "history = model.fit(x_train_img, y_train\n",
        "                    ,epochs = epochs\n",
        "                    ,validation_data = (x_validate_img, y_val)\n",
        "                    ,verbose = 1\n",
        "                    , batch_size= batch_size\n",
        "                    , callbacks=[learning_rate_reduction, early_stopping])\n",
        "model.save('trained_model.keras')"
      ],
      "metadata": {
        "execution": {
          "iopub.status.busy": "2024-07-15T22:29:28.940458Z",
          "iopub.execute_input": "2024-07-15T22:29:28.941389Z"
        },
        "trusted": true,
        "id": "9BAdi2hXt5-q"
      },
      "execution_count": null,
      "outputs": []
    },
    {
      "cell_type": "markdown",
      "source": [
        "## B. Integrating EfficientNetB2"
      ],
      "metadata": {
        "id": "K5d40Xrht5-q"
      }
    },
    {
      "cell_type": "code",
      "source": [
        "input_shape = (80, 60, 3)\n",
        "inputs = layers.Input(shape=input_shape)\n",
        "pre_trained_model = EfficientNetB2(include_top=False, input_tensor=inputs, weights=\"imagenet\")\n",
        "\n",
        "# Freeze the pretrained weights\n",
        "pre_trained_model.trainable = False\n",
        "\n",
        "# Rebuild top\n",
        "x = layers.GlobalAveragePooling2D(name=\"avg_pool\")(pre_trained_model.output)\n",
        "x = layers.BatchNormalization()(x)\n",
        "\n",
        "top_dropout_rate = 0.4\n",
        "x = layers.Dropout(top_dropout_rate, name=\"top_dropout\")(x)\n",
        "outputs = layers.Dense(num_classes, activation=\"softmax\", name=\"pred\")(x)\n",
        "\n",
        "# Compile\n",
        "pre_trained_model = keras.Model(inputs, outputs, name=\"EfficientNet\")\n",
        "optimizer = keras.optimizers.Adam(learning_rate=0.0001)\n",
        "pre_trained_model.compile(\n",
        "    optimizer=optimizer, loss=\"categorical_crossentropy\", metrics=[\"accuracy\", \"f1_score\"]\n",
        ")"
      ],
      "metadata": {
        "execution": {
          "iopub.status.busy": "2024-07-15T19:27:58.158991Z",
          "iopub.status.idle": "2024-07-15T19:27:58.159376Z",
          "shell.execute_reply.started": "2024-07-15T19:27:58.15916Z",
          "shell.execute_reply": "2024-07-15T19:27:58.159174Z"
        },
        "trusted": true,
        "id": "8GNnL2nLt5-q"
      },
      "execution_count": null,
      "outputs": []
    },
    {
      "cell_type": "code",
      "source": [
        "input_shape = (80, 60, 3)\n",
        "num_classes = 7\n",
        "pre_trained_model = EfficientNetB2(weights=None, input_shape=input_shape, classes = num_classes)\n",
        "pre_trained_model.compile(Adamax(learning_rate= 0.0001), loss= 'categorical_crossentropy', metrics= ['accuracy','f1_score'])\n",
        "# pre_trained_model.summary()"
      ],
      "metadata": {
        "execution": {
          "iopub.status.busy": "2024-07-15T19:27:58.160645Z",
          "iopub.status.idle": "2024-07-15T19:27:58.16099Z",
          "shell.execute_reply.started": "2024-07-15T19:27:58.160816Z",
          "shell.execute_reply": "2024-07-15T19:27:58.160831Z"
        },
        "trusted": true,
        "id": "qR6IYSrkt5-q"
      },
      "execution_count": null,
      "outputs": []
    },
    {
      "cell_type": "code",
      "source": [
        "# Set a learning rate annealer\n",
        "learning_rate_reduction = ReduceLROnPlateau(monitor='accuracy',\n",
        "                                            patience=3,\n",
        "                                            verbose=1,\n",
        "                                            factor=0.5,\n",
        "                                           min_lr=0.00000001)\n",
        "\n",
        "# Early stopping\n",
        "early_stopping = EarlyStopping(monitor='val_loss', patience=8, restore_best_weights=True)"
      ],
      "metadata": {
        "execution": {
          "iopub.status.busy": "2024-07-15T19:27:58.162089Z",
          "iopub.status.idle": "2024-07-15T19:27:58.162488Z",
          "shell.execute_reply.started": "2024-07-15T19:27:58.162299Z",
          "shell.execute_reply": "2024-07-15T19:27:58.162315Z"
        },
        "trusted": true,
        "id": "R4BalJydt5-q"
      },
      "execution_count": null,
      "outputs": []
    },
    {
      "cell_type": "markdown",
      "source": [
        "### Train the model"
      ],
      "metadata": {
        "id": "FAIfZuV4t5-r"
      }
    },
    {
      "cell_type": "code",
      "source": [
        "epochs = 110\n",
        "batch_size = 16\n",
        "pre_trained_history = pre_trained_model.fit(x_train_img, y_train\n",
        "                    ,epochs = epochs\n",
        "                    ,validation_data = (x_validate_img, y_val)\n",
        "                    ,verbose = 1\n",
        "                    , steps_per_epoch=x_train_img.shape[0] // batch_size\n",
        "                    , callbacks=[learning_rate_reduction, early_stopping])\n",
        "pre_trained_model.save('pre-trained_model.keras')"
      ],
      "metadata": {
        "execution": {
          "iopub.status.busy": "2024-07-15T19:27:58.164849Z",
          "iopub.status.idle": "2024-07-15T19:27:58.165203Z",
          "shell.execute_reply.started": "2024-07-15T19:27:58.16503Z",
          "shell.execute_reply": "2024-07-15T19:27:58.165045Z"
        },
        "trusted": true,
        "id": "lpLz0-Yxt5-r"
      },
      "execution_count": null,
      "outputs": []
    },
    {
      "cell_type": "markdown",
      "source": [
        "## Model Evaluation"
      ],
      "metadata": {
        "execution": {
          "iopub.status.busy": "2024-04-29T00:28:36.382344Z",
          "iopub.execute_input": "2024-04-29T00:28:36.382708Z",
          "iopub.status.idle": "2024-04-29T00:28:36.38925Z",
          "shell.execute_reply.started": "2024-04-29T00:28:36.382678Z",
          "shell.execute_reply": "2024-04-29T00:28:36.388145Z"
        },
        "id": "7DwCwPy0t5-r"
      }
    },
    {
      "cell_type": "code",
      "source": [
        "def plot_model_history(hist, model_name):\n",
        "    tr_acc = hist.history['accuracy']\n",
        "    tr_loss = hist.history['loss']\n",
        "    val_acc = hist.history['val_accuracy']\n",
        "    val_loss = hist.history['val_loss']\n",
        "    index_loss = np.argmin(val_loss)\n",
        "    val_lowest = val_loss[index_loss]\n",
        "    index_acc = np.argmax(val_acc)\n",
        "    acc_highest = val_acc[index_acc]\n",
        "\n",
        "    plt.figure(figsize= (20, 8))\n",
        "    plt.style.use('fivethirtyeight')\n",
        "    Epochs = [i+1 for i in range(len(tr_acc))]\n",
        "    loss_label = f'best epoch= {str(index_loss + 1)}'\n",
        "    acc_label = f'best epoch= {str(index_acc + 1)}'\n",
        "\n",
        "    plt.subplot(1, 2, 1)\n",
        "    plt.plot(Epochs, tr_loss, 'r', label= 'Training loss')\n",
        "    plt.plot(Epochs, val_loss, 'g', label= 'Validation loss')\n",
        "    plt.scatter(index_loss + 1, val_lowest, s= 150, c= 'blue', label= loss_label)\n",
        "    plt.title('Training and Validation Loss')\n",
        "    plt.xlabel('Epochs')\n",
        "    plt.ylabel('Loss')\n",
        "    plt.legend()\n",
        "\n",
        "    plt.subplot(1, 2, 2)\n",
        "    plt.plot(Epochs, tr_acc, 'r', label= 'Training Accuracy')\n",
        "    plt.plot(Epochs, val_acc, 'g', label= 'Validation Accuracy')\n",
        "    plt.scatter(index_acc + 1 , acc_highest, s= 150, c= 'blue', label= acc_label)\n",
        "    plt.title('Training and Validation Accuracy')\n",
        "    plt.xlabel('Epochs')\n",
        "    plt.ylabel('Accuracy')\n",
        "    plt.legend()\n",
        "\n",
        "    plt.tight_layout\n",
        "    plt.savefig('{}.png'.format(model_name))\n",
        "    plt.show()"
      ],
      "metadata": {
        "execution": {
          "iopub.status.busy": "2024-07-15T19:27:58.166583Z",
          "iopub.status.idle": "2024-07-15T19:27:58.16695Z",
          "shell.execute_reply.started": "2024-07-15T19:27:58.166763Z",
          "shell.execute_reply": "2024-07-15T19:27:58.166778Z"
        },
        "trusted": true,
        "id": "v4wWvjQDt5-r"
      },
      "execution_count": null,
      "outputs": []
    },
    {
      "cell_type": "code",
      "source": [
        "def plot_confusion_matrix(cm, classes,\n",
        "                          normalize=False,\n",
        "                          title='Confusion matrix',\n",
        "                          cmap=plt.cm.Blues):\n",
        "    \"\"\"\n",
        "    This function prints and plots the confusion matrix.\n",
        "    Normalization can be applied by setting `normalize=True`.\n",
        "    \"\"\"\n",
        "    plt.imshow(cm, interpolation='nearest', cmap=cmap)\n",
        "    plt.title(title)\n",
        "    plt.colorbar()\n",
        "    tick_marks = np.arange(len(classes))\n",
        "    plt.xticks(tick_marks, classes, rotation=45)\n",
        "    plt.yticks(tick_marks, classes)\n",
        "\n",
        "    if normalize:\n",
        "        cm = cm.astype('float') / cm.sum(axis=1)[:, np.newaxis]\n",
        "\n",
        "    thresh = cm.max() / 2.\n",
        "    for i, j in itertools.product(range(cm.shape[0]), range(cm.shape[1])):\n",
        "        plt.text(j, i, cm[i, j],\n",
        "                 horizontalalignment=\"center\",\n",
        "                 color=\"white\" if cm[i, j] > thresh else \"black\")\n",
        "\n",
        "    plt.tight_layout()\n",
        "    plt.ylabel('True label')\n",
        "    plt.xlabel('Predicted label')\n"
      ],
      "metadata": {
        "execution": {
          "iopub.status.busy": "2024-07-15T19:27:58.168046Z",
          "iopub.status.idle": "2024-07-15T19:27:58.168434Z",
          "shell.execute_reply.started": "2024-07-15T19:27:58.168201Z",
          "shell.execute_reply": "2024-07-15T19:27:58.168215Z"
        },
        "trusted": true,
        "id": "KFcZaI1yt5-r"
      },
      "execution_count": null,
      "outputs": []
    },
    {
      "cell_type": "markdown",
      "source": [
        "### Model A (from scratch) evaluation"
      ],
      "metadata": {
        "id": "gQ2-ZkPYt5-r"
      }
    },
    {
      "cell_type": "code",
      "source": [
        "train_loss, train_accuracy = model.evaluate(x_train_img, y_train, verbose=1)[:2]\n",
        "test_loss, test_accuracy = model.evaluate(x_test_img, y_test, verbose=1)[:2]\n",
        "validate_loss, validate_accuracy = model.evaluate(x_validate_img, y_val, verbose=1)[:2]\n",
        "print(\"Train: accuracy = %f  ;  loss_v = %f\" % (train_accuracy, train_loss))\n",
        "print(\"Validation: accuracy = %f  ;  loss_v = %f\" % (validate_accuracy, validate_loss))\n",
        "print(\"Test: accuracy = %f  ;  loss = %f\" % (test_accuracy, test_loss))"
      ],
      "metadata": {
        "execution": {
          "iopub.status.busy": "2024-07-15T19:27:58.169591Z",
          "iopub.status.idle": "2024-07-15T19:27:58.169928Z",
          "shell.execute_reply.started": "2024-07-15T19:27:58.169757Z",
          "shell.execute_reply": "2024-07-15T19:27:58.169771Z"
        },
        "trusted": true,
        "id": "Qq21sdb0t5-r"
      },
      "execution_count": null,
      "outputs": []
    },
    {
      "cell_type": "code",
      "source": [
        "plot_model_history(history,'trained')"
      ],
      "metadata": {
        "execution": {
          "iopub.status.busy": "2024-07-15T19:27:58.171084Z",
          "iopub.status.idle": "2024-07-15T19:27:58.171485Z",
          "shell.execute_reply.started": "2024-07-15T19:27:58.171294Z",
          "shell.execute_reply": "2024-07-15T19:27:58.171316Z"
        },
        "trusted": true,
        "id": "5McANuL4t5-s"
      },
      "execution_count": null,
      "outputs": []
    },
    {
      "cell_type": "code",
      "source": [
        "# Predict the values from the validation dataset\n",
        "Y_pred = model.predict(x_test_img)\n",
        "\n",
        "# Convert predictions classes to one hot vectors\n",
        "Y_pred_classes = np.argmax(Y_pred,axis = 1)\n",
        "\n",
        "# Convert validation observations to one hot vectors\n",
        "Y_true = np.argmax(y_test,axis = 1)\n",
        "\n",
        "# compute the confusion matrix\n",
        "confusion_mtx = confusion_matrix(Y_true, Y_pred_classes)\n",
        "plot_confusion_matrix(confusion_mtx, classes = range(7))"
      ],
      "metadata": {
        "execution": {
          "iopub.status.busy": "2024-07-15T19:27:58.17307Z",
          "iopub.status.idle": "2024-07-15T19:27:58.173464Z",
          "shell.execute_reply.started": "2024-07-15T19:27:58.173278Z",
          "shell.execute_reply": "2024-07-15T19:27:58.173295Z"
        },
        "trusted": true,
        "id": "IKel5MWqt5-s"
      },
      "execution_count": null,
      "outputs": []
    },
    {
      "cell_type": "code",
      "source": [
        "label_frac_error = 1 - np.diag(confusion_mtx) / np.sum(confusion_mtx, axis=1)\n",
        "plt.bar(np.arange(7),label_frac_error)\n",
        "plt.xlabel('True Label')\n",
        "plt.ylabel('Fraction classified incorrectly')"
      ],
      "metadata": {
        "execution": {
          "iopub.status.busy": "2024-07-15T19:27:58.175107Z",
          "iopub.status.idle": "2024-07-15T19:27:58.175496Z",
          "shell.execute_reply.started": "2024-07-15T19:27:58.175314Z",
          "shell.execute_reply": "2024-07-15T19:27:58.17533Z"
        },
        "trusted": true,
        "id": "8H2JiFJrt5-s"
      },
      "execution_count": null,
      "outputs": []
    },
    {
      "cell_type": "markdown",
      "source": [
        "### Model B (using EfficientNetB2) evaluation"
      ],
      "metadata": {
        "id": "fGj5VZnWt5-s"
      }
    },
    {
      "cell_type": "code",
      "source": [
        "pre_trained_train_loss, pre_trained_train_accuracy = pre_trained_model.evaluate(x_train_img, y_train, verbose=1)[:2]\n",
        "pre_trained_test_loss, pre_trained_test_accuracy = pre_trained_model.evaluate(x_test_img, y_test, verbose=1)[:2]\n",
        "pre_trained_validate_loss, pre_trained_validate_accuracy = pre_trained_model.evaluate(x_validate_img, y_val, verbose=1)[:2]\n",
        "print(\"Train: accuracy = %f  ;  loss_v = %f\" % (pre_trained_train_accuracy, pre_trained_train_loss))\n",
        "print(\"Validation: accuracy = %f  ;  loss_v = %f\" % (pre_trained_validate_accuracy, pre_trained_validate_loss))\n",
        "print(\"Test: accuracy = %f  ;  loss = %f\" % (pre_trained_test_accuracy, pre_trained_test_loss))"
      ],
      "metadata": {
        "execution": {
          "iopub.status.busy": "2024-07-15T19:27:58.177149Z",
          "iopub.status.idle": "2024-07-15T19:27:58.177551Z",
          "shell.execute_reply.started": "2024-07-15T19:27:58.177362Z",
          "shell.execute_reply": "2024-07-15T19:27:58.177378Z"
        },
        "trusted": true,
        "id": "xflh_2adt5-s"
      },
      "execution_count": null,
      "outputs": []
    },
    {
      "cell_type": "code",
      "source": [
        "plot_model_history(pre_trained_history, 'pre_trained')"
      ],
      "metadata": {
        "execution": {
          "iopub.status.busy": "2024-07-15T19:27:58.179355Z",
          "iopub.status.idle": "2024-07-15T19:27:58.179737Z",
          "shell.execute_reply.started": "2024-07-15T19:27:58.179552Z",
          "shell.execute_reply": "2024-07-15T19:27:58.179568Z"
        },
        "trusted": true,
        "id": "u3TPG9OGt5-s"
      },
      "execution_count": null,
      "outputs": []
    },
    {
      "cell_type": "code",
      "source": [
        "# Predict the values from the validation dataset\n",
        "pre_trained_Y_pred = pre_trained_model.predict(x_test_img)\n",
        "\n",
        "# Convert predictions classes to one hot vectors\n",
        "pre_trained_Y_pred_classes = np.argmax(pre_trained_Y_pred,axis = 1)\n",
        "\n",
        "# Convert validation observations to one hot vectors\n",
        "Y_true = np.argmax(y_test,axis = 1)\n",
        "\n",
        "# compute the confusion matrix\n",
        "pre_trained_confusion_mtx = confusion_matrix(Y_true, pre_trained_Y_pred_classes)\n",
        "plot_confusion_matrix(pre_trained_confusion_mtx, classes = range(7))"
      ],
      "metadata": {
        "execution": {
          "iopub.status.busy": "2024-07-15T19:27:58.18098Z",
          "iopub.status.idle": "2024-07-15T19:27:58.181433Z",
          "shell.execute_reply.started": "2024-07-15T19:27:58.181171Z",
          "shell.execute_reply": "2024-07-15T19:27:58.181187Z"
        },
        "trusted": true,
        "id": "qmOKXzzet5-s"
      },
      "execution_count": null,
      "outputs": []
    },
    {
      "cell_type": "code",
      "source": [
        "pre_trained_label_frac_error = 1 - np.diag(pre_trained_confusion_mtx) / np.sum(pre_trained_confusion_mtx, axis=1)\n",
        "plt.bar(np.arange(7),pre_trained_label_frac_error)\n",
        "plt.xlabel('True Label')\n",
        "plt.ylabel('Fraction classified incorrectly')"
      ],
      "metadata": {
        "execution": {
          "iopub.status.busy": "2024-07-15T19:27:58.18288Z",
          "iopub.status.idle": "2024-07-15T19:27:58.183272Z",
          "shell.execute_reply.started": "2024-07-15T19:27:58.183071Z",
          "shell.execute_reply": "2024-07-15T19:27:58.183086Z"
        },
        "trusted": true,
        "id": "UDQaZC-0t5-s"
      },
      "execution_count": null,
      "outputs": []
    }
  ]
}